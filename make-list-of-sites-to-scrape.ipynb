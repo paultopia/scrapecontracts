{
 "cells": [
  {
   "cell_type": "code",
   "execution_count": 1,
   "metadata": {},
   "outputs": [
    {
     "data": {
      "text/plain": [
       "['google.com\\n',\n",
       " 'youtube.com\\n',\n",
       " 'facebook.com\\n',\n",
       " 'reddit.com\\n',\n",
       " 'amazon.com\\n']"
      ]
     },
     "execution_count": 1,
     "metadata": {},
     "output_type": "execute_result"
    }
   ],
   "source": [
    "with open(\"raw-data/topsites.txt\") as ts:\n",
    "    topsites = ts.readlines()\n",
    "topsites[0:5]"
   ]
  },
  {
   "cell_type": "code",
   "execution_count": 2,
   "metadata": {},
   "outputs": [
    {
     "data": {
      "text/plain": [
       "['google.com', 'youtube.com', 'facebook.com', 'reddit.com', 'amazon.com']"
      ]
     },
     "execution_count": 2,
     "metadata": {},
     "output_type": "execute_result"
    }
   ],
   "source": [
    "topsites = [x.strip() for x in topsites]\n",
    "topsites[0:5]"
   ]
  },
  {
   "cell_type": "code",
   "execution_count": 3,
   "metadata": {},
   "outputs": [],
   "source": [
    "import json\n",
    "with open(\"raw-data/product_hunt_urls.json\") as ph:\n",
    "    producthunt = json.load(ph)"
   ]
  },
  {
   "cell_type": "code",
   "execution_count": 4,
   "metadata": {},
   "outputs": [
    {
     "data": {
      "text/plain": [
       "['https://www.global-starters.com',\n",
       " 'http://getembark.io',\n",
       " 'https://www.allanswered.com',\n",
       " 'https://www.stepsapp.xyz',\n",
       " 'http://senstone.io']"
      ]
     },
     "execution_count": 4,
     "metadata": {},
     "output_type": "execute_result"
    }
   ],
   "source": [
    "producthunt[0:5]"
   ]
  },
  {
   "cell_type": "code",
   "execution_count": 5,
   "metadata": {},
   "outputs": [],
   "source": [
    "unfiltered_sites = topsites + producthunt"
   ]
  },
  {
   "cell_type": "code",
   "execution_count": 6,
   "metadata": {},
   "outputs": [
    {
     "data": {
      "text/plain": [
       "6242"
      ]
     },
     "execution_count": 6,
     "metadata": {},
     "output_type": "execute_result"
    }
   ],
   "source": [
    "len(unfiltered_sites)"
   ]
  },
  {
   "cell_type": "code",
   "execution_count": 9,
   "metadata": {},
   "outputs": [],
   "source": [
    "# now let's get all the URLS that I actually have already. \n",
    "# this will need to be updated with recent stuff collected by RAs after 11-09-17, but I can pull that from psql.\n",
    "# I'm going to discard any sites that my former RAs said they couldn't find ToS or other contracts on.  \n",
    "with open (\"raw-data/contracts7-24-17.json\") as oldk:\n",
    "    olddata = [json.loads(x) for x in oldk.readlines()]\n",
    "    oldurls = []\n",
    "    for x in olddata:\n",
    "        if \"url\" in x:\n",
    "            oldurls.append(x[\"url\"])"
   ]
  },
  {
   "cell_type": "code",
   "execution_count": 10,
   "metadata": {},
   "outputs": [
    {
     "data": {
      "text/plain": [
       "339"
      ]
     },
     "execution_count": 10,
     "metadata": {},
     "output_type": "execute_result"
    }
   ],
   "source": [
    "len(oldurls)"
   ]
  },
  {
   "cell_type": "code",
   "execution_count": 11,
   "metadata": {},
   "outputs": [
    {
     "data": {
      "text/plain": [
       "['https://hasura.io',\n",
       " 'https://nightwatch.io',\n",
       " 'http://www.submarinecablemap.com',\n",
       " 'http://www.theaivc.com',\n",
       " 'http://www.slimfoldwallet.com']"
      ]
     },
     "execution_count": 11,
     "metadata": {},
     "output_type": "execute_result"
    }
   ],
   "source": [
    "oldurls[0:5]"
   ]
  },
  {
   "cell_type": "code",
   "execution_count": 13,
   "metadata": {},
   "outputs": [
    {
     "data": {
      "text/html": [
       "<div>\n",
       "<style scoped>\n",
       "    .dataframe tbody tr th:only-of-type {\n",
       "        vertical-align: middle;\n",
       "    }\n",
       "\n",
       "    .dataframe tbody tr th {\n",
       "        vertical-align: top;\n",
       "    }\n",
       "\n",
       "    .dataframe thead th {\n",
       "        text-align: right;\n",
       "    }\n",
       "</style>\n",
       "<table border=\"1\" class=\"dataframe\">\n",
       "  <thead>\n",
       "    <tr style=\"text-align: right;\">\n",
       "      <th></th>\n",
       "      <th>id</th>\n",
       "      <th>contracturl</th>\n",
       "      <th>linktext</th>\n",
       "      <th>student</th>\n",
       "      <th>businesscategory</th>\n",
       "      <th>company</th>\n",
       "      <th>contract</th>\n",
       "      <th>noncontractdescription</th>\n",
       "      <th>foundnoncontract</th>\n",
       "      <th>noncontracttext</th>\n",
       "      <th>entered</th>\n",
       "    </tr>\n",
       "  </thead>\n",
       "  <tbody>\n",
       "    <tr>\n",
       "      <th>0</th>\n",
       "      <td>2</td>\n",
       "      <td>https://ankiweb.net/account/terms</td>\n",
       "      <td>Legal</td>\n",
       "      <td>paul</td>\n",
       "      <td>internet companies</td>\n",
       "      <td>Anki</td>\n",
       "      <td>Terms and Conditions\\r\\nPlease read through th...</td>\n",
       "      <td>None (arbitrary add)</td>\n",
       "      <td>f</td>\n",
       "      <td>AnkiWeb is a free companion to the computer ve...</td>\n",
       "      <td>2017-08-17 03:05:43.995519</td>\n",
       "    </tr>\n",
       "    <tr>\n",
       "      <th>1</th>\n",
       "      <td>3</td>\n",
       "      <td>https://www.spotify.com/us/legal/end-user-agre...</td>\n",
       "      <td>terms and conditions of use</td>\n",
       "      <td>paul</td>\n",
       "      <td>internet companies</td>\n",
       "      <td>Spotify</td>\n",
       "      <td>Spotify Terms and Conditions of Use\\r\\n\\r\\nEff...</td>\n",
       "      <td>None (arbitrary add)</td>\n",
       "      <td>f</td>\n",
       "      <td>About Us\\r\\nWith Spotify, it’s easy to find th...</td>\n",
       "      <td>2017-08-23 02:48:38.207869</td>\n",
       "    </tr>\n",
       "    <tr>\n",
       "      <th>2</th>\n",
       "      <td>4</td>\n",
       "      <td>https://www.clearxchange.com/legal</td>\n",
       "      <td>LEGAL AND PRIVACY</td>\n",
       "      <td>paul</td>\n",
       "      <td>internet companies</td>\n",
       "      <td>ClearXChange</td>\n",
       "      <td>CLEARXCHANGE TERMS OF USE\\r\\nLast updated: Dec...</td>\n",
       "      <td>None (arbitrary add)</td>\n",
       "      <td>f</td>\n",
       "      <td>clearXchange® is becoming Zelle℠!\\r\\nJune 12, ...</td>\n",
       "      <td>2017-08-27 20:04:28.021259</td>\n",
       "    </tr>\n",
       "    <tr>\n",
       "      <th>3</th>\n",
       "      <td>5</td>\n",
       "      <td>https://www.clearxchange.com/legal</td>\n",
       "      <td>service agreement</td>\n",
       "      <td>paul</td>\n",
       "      <td>internet companies</td>\n",
       "      <td>ClearXChange</td>\n",
       "      <td>THE CLEARXCHANGE.COM USER SERVICE AGREEMENT\\r\\...</td>\n",
       "      <td>None (arbitrary add)</td>\n",
       "      <td>f</td>\n",
       "      <td>News\\r\\n\\r\\nJournalists and analysts, please c...</td>\n",
       "      <td>2017-08-27 20:06:14.873878</td>\n",
       "    </tr>\n",
       "    <tr>\n",
       "      <th>4</th>\n",
       "      <td>6</td>\n",
       "      <td>https://www.clearxchange.com/legal#esign</td>\n",
       "      <td>e-sign agreement</td>\n",
       "      <td>paul</td>\n",
       "      <td>internet companies</td>\n",
       "      <td>ClearXChange</td>\n",
       "      <td>CLEARXCHANGE E-SIGN DISCLOSURE AND CONSENT\\r\\n...</td>\n",
       "      <td>None (arbitrary add)</td>\n",
       "      <td>f</td>\n",
       "      <td>HOW IT WORKS\\r\\nWe unite with the top banks to...</td>\n",
       "      <td>2017-08-27 20:08:03.822403</td>\n",
       "    </tr>\n",
       "  </tbody>\n",
       "</table>\n",
       "</div>"
      ],
      "text/plain": [
       "   id                                        contracturl  \\\n",
       "0   2                  https://ankiweb.net/account/terms   \n",
       "1   3  https://www.spotify.com/us/legal/end-user-agre...   \n",
       "2   4                 https://www.clearxchange.com/legal   \n",
       "3   5                 https://www.clearxchange.com/legal   \n",
       "4   6           https://www.clearxchange.com/legal#esign   \n",
       "\n",
       "                      linktext student    businesscategory       company  \\\n",
       "0                        Legal    paul  internet companies          Anki   \n",
       "1  terms and conditions of use    paul  internet companies       Spotify   \n",
       "2            LEGAL AND PRIVACY    paul  internet companies  ClearXChange   \n",
       "3            service agreement    paul  internet companies  ClearXChange   \n",
       "4             e-sign agreement    paul  internet companies  ClearXChange   \n",
       "\n",
       "                                            contract noncontractdescription  \\\n",
       "0  Terms and Conditions\\r\\nPlease read through th...   None (arbitrary add)   \n",
       "1  Spotify Terms and Conditions of Use\\r\\n\\r\\nEff...   None (arbitrary add)   \n",
       "2  CLEARXCHANGE TERMS OF USE\\r\\nLast updated: Dec...   None (arbitrary add)   \n",
       "3  THE CLEARXCHANGE.COM USER SERVICE AGREEMENT\\r\\...   None (arbitrary add)   \n",
       "4  CLEARXCHANGE E-SIGN DISCLOSURE AND CONSENT\\r\\n...   None (arbitrary add)   \n",
       "\n",
       "  foundnoncontract                                    noncontracttext  \\\n",
       "0                f  AnkiWeb is a free companion to the computer ve...   \n",
       "1                f  About Us\\r\\nWith Spotify, it’s easy to find th...   \n",
       "2                f  clearXchange® is becoming Zelle℠!\\r\\nJune 12, ...   \n",
       "3                f  News\\r\\n\\r\\nJournalists and analysts, please c...   \n",
       "4                f  HOW IT WORKS\\r\\nWe unite with the top banks to...   \n",
       "\n",
       "                      entered  \n",
       "0  2017-08-17 03:05:43.995519  \n",
       "1  2017-08-23 02:48:38.207869  \n",
       "2  2017-08-27 20:04:28.021259  \n",
       "3  2017-08-27 20:06:14.873878  \n",
       "4  2017-08-27 20:08:03.822403  "
      ]
     },
     "execution_count": 13,
     "metadata": {},
     "output_type": "execute_result"
    }
   ],
   "source": [
    "# now the more recent data\n",
    "import pandas as pd\n",
    "recentdata = pd.read_csv(\"raw-data/contracts-11-09-17.csv\")\n",
    "recentdata.head()"
   ]
  },
  {
   "cell_type": "code",
   "execution_count": 14,
   "metadata": {},
   "outputs": [],
   "source": [
    "recenturls = list(recentdata[\"contracturl\"].copy())"
   ]
  },
  {
   "cell_type": "code",
   "execution_count": 15,
   "metadata": {},
   "outputs": [
    {
     "data": {
      "text/plain": [
       "['https://ankiweb.net/account/terms',\n",
       " 'https://www.spotify.com/us/legal/end-user-agreement/',\n",
       " 'https://www.clearxchange.com/legal',\n",
       " 'https://www.clearxchange.com/legal',\n",
       " 'https://www.clearxchange.com/legal#esign']"
      ]
     },
     "execution_count": 15,
     "metadata": {},
     "output_type": "execute_result"
    }
   ],
   "source": [
    "recenturls[0:5]"
   ]
  },
  {
   "cell_type": "code",
   "execution_count": 16,
   "metadata": {},
   "outputs": [
    {
     "data": {
      "text/plain": [
       "ParseResult(scheme='https', netloc='ankiweb.net', path='/account/terms', params='', query='', fragment='')"
      ]
     },
     "execution_count": 16,
     "metadata": {},
     "output_type": "execute_result"
    }
   ],
   "source": [
    "import urllib.parse as url\n",
    "url.urlparse(recenturls[0])"
   ]
  },
  {
   "cell_type": "code",
   "execution_count": 17,
   "metadata": {},
   "outputs": [
    {
     "data": {
      "text/plain": [
       "ParseResult(scheme='', netloc='', path='google.com', params='', query='', fragment='')"
      ]
     },
     "execution_count": 17,
     "metadata": {},
     "output_type": "execute_result"
    }
   ],
   "source": [
    "url.urlparse(topsites[0])"
   ]
  },
  {
   "cell_type": "code",
   "execution_count": 18,
   "metadata": {},
   "outputs": [
    {
     "data": {
      "text/plain": [
       "ParseResult(scheme='https', netloc='www.global-starters.com', path='', params='', query='', fragment='')"
      ]
     },
     "execution_count": 18,
     "metadata": {},
     "output_type": "execute_result"
    }
   ],
   "source": [
    "url.urlparse(producthunt[0])"
   ]
  },
  {
   "cell_type": "code",
   "execution_count": 24,
   "metadata": {},
   "outputs": [
    {
     "data": {
      "text/plain": [
       "'hasura.io'"
      ]
     },
     "execution_count": 24,
     "metadata": {},
     "output_type": "execute_result"
    }
   ],
   "source": [
    "url.urlparse(oldurls[0]).netloc"
   ]
  },
  {
   "cell_type": "code",
   "execution_count": 25,
   "metadata": {},
   "outputs": [],
   "source": [
    "candidate_sites = topsites + [url.urlparse(x).netloc for x in producthunt]"
   ]
  },
  {
   "cell_type": "code",
   "execution_count": 26,
   "metadata": {},
   "outputs": [
    {
     "data": {
      "text/plain": [
       "6242"
      ]
     },
     "execution_count": 26,
     "metadata": {},
     "output_type": "execute_result"
    }
   ],
   "source": [
    "len(candidate_sites)"
   ]
  },
  {
   "cell_type": "code",
   "execution_count": 27,
   "metadata": {},
   "outputs": [
    {
     "data": {
      "text/plain": [
       "'www.contracthound.com'"
      ]
     },
     "execution_count": 27,
     "metadata": {},
     "output_type": "execute_result"
    }
   ],
   "source": [
    "candidate_sites[5000]"
   ]
  },
  {
   "cell_type": "code",
   "execution_count": 28,
   "metadata": {},
   "outputs": [
    {
     "ename": "AttributeError",
     "evalue": "'float' object has no attribute 'decode'",
     "output_type": "error",
     "traceback": [
      "\u001b[0;31m---------------------------------------------------------------------------\u001b[0m",
      "\u001b[0;31mAttributeError\u001b[0m                            Traceback (most recent call last)",
      "\u001b[0;32m<ipython-input-28-a566a4615ec4>\u001b[0m in \u001b[0;36m<module>\u001b[0;34m()\u001b[0m\n\u001b[1;32m      1\u001b[0m \u001b[0;31m# make list of already-RA-examined sites.  AGAIN, ONLY GOES UP TO 11-9, LATER SITES NEED TO BE CHOPPED LATER\u001b[0m\u001b[0;34m\u001b[0m\u001b[0;34m\u001b[0m\u001b[0m\n\u001b[0;32m----> 2\u001b[0;31m \u001b[0msites_to_exclude\u001b[0m \u001b[0;34m=\u001b[0m \u001b[0;34m[\u001b[0m\u001b[0murl\u001b[0m\u001b[0;34m.\u001b[0m\u001b[0murlparse\u001b[0m\u001b[0;34m(\u001b[0m\u001b[0mx\u001b[0m\u001b[0;34m)\u001b[0m\u001b[0;34m.\u001b[0m\u001b[0mnetloc\u001b[0m \u001b[0;32mfor\u001b[0m \u001b[0mx\u001b[0m \u001b[0;32min\u001b[0m \u001b[0moldurls\u001b[0m \u001b[0;34m+\u001b[0m \u001b[0mrecenturls\u001b[0m\u001b[0;34m]\u001b[0m\u001b[0;34m\u001b[0m\u001b[0m\n\u001b[0m",
      "\u001b[0;32m<ipython-input-28-a566a4615ec4>\u001b[0m in \u001b[0;36m<listcomp>\u001b[0;34m(.0)\u001b[0m\n\u001b[1;32m      1\u001b[0m \u001b[0;31m# make list of already-RA-examined sites.  AGAIN, ONLY GOES UP TO 11-9, LATER SITES NEED TO BE CHOPPED LATER\u001b[0m\u001b[0;34m\u001b[0m\u001b[0;34m\u001b[0m\u001b[0m\n\u001b[0;32m----> 2\u001b[0;31m \u001b[0msites_to_exclude\u001b[0m \u001b[0;34m=\u001b[0m \u001b[0;34m[\u001b[0m\u001b[0murl\u001b[0m\u001b[0;34m.\u001b[0m\u001b[0murlparse\u001b[0m\u001b[0;34m(\u001b[0m\u001b[0mx\u001b[0m\u001b[0;34m)\u001b[0m\u001b[0;34m.\u001b[0m\u001b[0mnetloc\u001b[0m \u001b[0;32mfor\u001b[0m \u001b[0mx\u001b[0m \u001b[0;32min\u001b[0m \u001b[0moldurls\u001b[0m \u001b[0;34m+\u001b[0m \u001b[0mrecenturls\u001b[0m\u001b[0;34m]\u001b[0m\u001b[0;34m\u001b[0m\u001b[0m\n\u001b[0m",
      "\u001b[0;32m/usr/local/Cellar/python3/3.6.1/Frameworks/Python.framework/Versions/3.6/lib/python3.6/urllib/parse.py\u001b[0m in \u001b[0;36murlparse\u001b[0;34m(url, scheme, allow_fragments)\u001b[0m\n\u001b[1;32m    355\u001b[0m     \u001b[0mNote\u001b[0m \u001b[0mthat\u001b[0m \u001b[0mwe\u001b[0m \u001b[0mdon\u001b[0m\u001b[0;31m'\u001b[0m\u001b[0mt\u001b[0m \u001b[0;32mbreak\u001b[0m \u001b[0mthe\u001b[0m \u001b[0mcomponents\u001b[0m \u001b[0mup\u001b[0m \u001b[0;32min\u001b[0m \u001b[0msmaller\u001b[0m \u001b[0mbits\u001b[0m\u001b[0;34m\u001b[0m\u001b[0m\n\u001b[1;32m    356\u001b[0m     (e.g. netloc is a single string) and we don't expand % escapes.\"\"\"\n\u001b[0;32m--> 357\u001b[0;31m     \u001b[0murl\u001b[0m\u001b[0;34m,\u001b[0m \u001b[0mscheme\u001b[0m\u001b[0;34m,\u001b[0m \u001b[0m_coerce_result\u001b[0m \u001b[0;34m=\u001b[0m \u001b[0m_coerce_args\u001b[0m\u001b[0;34m(\u001b[0m\u001b[0murl\u001b[0m\u001b[0;34m,\u001b[0m \u001b[0mscheme\u001b[0m\u001b[0;34m)\u001b[0m\u001b[0;34m\u001b[0m\u001b[0m\n\u001b[0m\u001b[1;32m    358\u001b[0m     \u001b[0msplitresult\u001b[0m \u001b[0;34m=\u001b[0m \u001b[0murlsplit\u001b[0m\u001b[0;34m(\u001b[0m\u001b[0murl\u001b[0m\u001b[0;34m,\u001b[0m \u001b[0mscheme\u001b[0m\u001b[0;34m,\u001b[0m \u001b[0mallow_fragments\u001b[0m\u001b[0;34m)\u001b[0m\u001b[0;34m\u001b[0m\u001b[0m\n\u001b[1;32m    359\u001b[0m     \u001b[0mscheme\u001b[0m\u001b[0;34m,\u001b[0m \u001b[0mnetloc\u001b[0m\u001b[0;34m,\u001b[0m \u001b[0murl\u001b[0m\u001b[0;34m,\u001b[0m \u001b[0mquery\u001b[0m\u001b[0;34m,\u001b[0m \u001b[0mfragment\u001b[0m \u001b[0;34m=\u001b[0m \u001b[0msplitresult\u001b[0m\u001b[0;34m\u001b[0m\u001b[0m\n",
      "\u001b[0;32m/usr/local/Cellar/python3/3.6.1/Frameworks/Python.framework/Versions/3.6/lib/python3.6/urllib/parse.py\u001b[0m in \u001b[0;36m_coerce_args\u001b[0;34m(*args)\u001b[0m\n\u001b[1;32m    113\u001b[0m     \u001b[0;32mif\u001b[0m \u001b[0mstr_input\u001b[0m\u001b[0;34m:\u001b[0m\u001b[0;34m\u001b[0m\u001b[0m\n\u001b[1;32m    114\u001b[0m         \u001b[0;32mreturn\u001b[0m \u001b[0margs\u001b[0m \u001b[0;34m+\u001b[0m \u001b[0;34m(\u001b[0m\u001b[0m_noop\u001b[0m\u001b[0;34m,\u001b[0m\u001b[0;34m)\u001b[0m\u001b[0;34m\u001b[0m\u001b[0m\n\u001b[0;32m--> 115\u001b[0;31m     \u001b[0;32mreturn\u001b[0m \u001b[0m_decode_args\u001b[0m\u001b[0;34m(\u001b[0m\u001b[0margs\u001b[0m\u001b[0;34m)\u001b[0m \u001b[0;34m+\u001b[0m \u001b[0;34m(\u001b[0m\u001b[0m_encode_result\u001b[0m\u001b[0;34m,\u001b[0m\u001b[0;34m)\u001b[0m\u001b[0;34m\u001b[0m\u001b[0m\n\u001b[0m\u001b[1;32m    116\u001b[0m \u001b[0;34m\u001b[0m\u001b[0m\n\u001b[1;32m    117\u001b[0m \u001b[0;31m# Result objects are more helpful than simple tuples\u001b[0m\u001b[0;34m\u001b[0m\u001b[0;34m\u001b[0m\u001b[0m\n",
      "\u001b[0;32m/usr/local/Cellar/python3/3.6.1/Frameworks/Python.framework/Versions/3.6/lib/python3.6/urllib/parse.py\u001b[0m in \u001b[0;36m_decode_args\u001b[0;34m(args, encoding, errors)\u001b[0m\n\u001b[1;32m     97\u001b[0m def _decode_args(args, encoding=_implicit_encoding,\n\u001b[1;32m     98\u001b[0m                        errors=_implicit_errors):\n\u001b[0;32m---> 99\u001b[0;31m     \u001b[0;32mreturn\u001b[0m \u001b[0mtuple\u001b[0m\u001b[0;34m(\u001b[0m\u001b[0mx\u001b[0m\u001b[0;34m.\u001b[0m\u001b[0mdecode\u001b[0m\u001b[0;34m(\u001b[0m\u001b[0mencoding\u001b[0m\u001b[0;34m,\u001b[0m \u001b[0merrors\u001b[0m\u001b[0;34m)\u001b[0m \u001b[0;32mif\u001b[0m \u001b[0mx\u001b[0m \u001b[0;32melse\u001b[0m \u001b[0;34m''\u001b[0m \u001b[0;32mfor\u001b[0m \u001b[0mx\u001b[0m \u001b[0;32min\u001b[0m \u001b[0margs\u001b[0m\u001b[0;34m)\u001b[0m\u001b[0;34m\u001b[0m\u001b[0m\n\u001b[0m\u001b[1;32m    100\u001b[0m \u001b[0;34m\u001b[0m\u001b[0m\n\u001b[1;32m    101\u001b[0m \u001b[0;32mdef\u001b[0m \u001b[0m_coerce_args\u001b[0m\u001b[0;34m(\u001b[0m\u001b[0;34m*\u001b[0m\u001b[0margs\u001b[0m\u001b[0;34m)\u001b[0m\u001b[0;34m:\u001b[0m\u001b[0;34m\u001b[0m\u001b[0m\n",
      "\u001b[0;32m/usr/local/Cellar/python3/3.6.1/Frameworks/Python.framework/Versions/3.6/lib/python3.6/urllib/parse.py\u001b[0m in \u001b[0;36m<genexpr>\u001b[0;34m(.0)\u001b[0m\n\u001b[1;32m     97\u001b[0m def _decode_args(args, encoding=_implicit_encoding,\n\u001b[1;32m     98\u001b[0m                        errors=_implicit_errors):\n\u001b[0;32m---> 99\u001b[0;31m     \u001b[0;32mreturn\u001b[0m \u001b[0mtuple\u001b[0m\u001b[0;34m(\u001b[0m\u001b[0mx\u001b[0m\u001b[0;34m.\u001b[0m\u001b[0mdecode\u001b[0m\u001b[0;34m(\u001b[0m\u001b[0mencoding\u001b[0m\u001b[0;34m,\u001b[0m \u001b[0merrors\u001b[0m\u001b[0;34m)\u001b[0m \u001b[0;32mif\u001b[0m \u001b[0mx\u001b[0m \u001b[0;32melse\u001b[0m \u001b[0;34m''\u001b[0m \u001b[0;32mfor\u001b[0m \u001b[0mx\u001b[0m \u001b[0;32min\u001b[0m \u001b[0margs\u001b[0m\u001b[0;34m)\u001b[0m\u001b[0;34m\u001b[0m\u001b[0m\n\u001b[0m\u001b[1;32m    100\u001b[0m \u001b[0;34m\u001b[0m\u001b[0m\n\u001b[1;32m    101\u001b[0m \u001b[0;32mdef\u001b[0m \u001b[0m_coerce_args\u001b[0m\u001b[0;34m(\u001b[0m\u001b[0;34m*\u001b[0m\u001b[0margs\u001b[0m\u001b[0;34m)\u001b[0m\u001b[0;34m:\u001b[0m\u001b[0;34m\u001b[0m\u001b[0m\n",
      "\u001b[0;31mAttributeError\u001b[0m: 'float' object has no attribute 'decode'"
     ]
    }
   ],
   "source": [
    "# make list of already-RA-examined sites.  AGAIN, ONLY GOES UP TO 11-9, LATER SITES NEED TO BE CHOPPED LATER\n",
    "sites_to_exclude = [url.urlparse(x).netloc for x in oldurls + recenturls]"
   ]
  },
  {
   "cell_type": "code",
   "execution_count": 29,
   "metadata": {},
   "outputs": [],
   "source": [
    "# why in the hell is there a float in there?  Something probably got a NaN in pandas because it was blank in the csv. \n",
    "sites_to_exclude = [url.urlparse(x).netloc for x in oldurls + [y for y in recenturls if type(y) is not float]]"
   ]
  },
  {
   "cell_type": "code",
   "execution_count": 30,
   "metadata": {},
   "outputs": [
    {
     "data": {
      "text/plain": [
       "917"
      ]
     },
     "execution_count": 30,
     "metadata": {},
     "output_type": "execute_result"
    }
   ],
   "source": [
    "len(sites_to_exclude)"
   ]
  },
  {
   "cell_type": "code",
   "execution_count": 31,
   "metadata": {},
   "outputs": [],
   "source": [
    "sites_to_scrape = list(set(candidate_sites) - set(sites_to_exclude))"
   ]
  },
  {
   "cell_type": "code",
   "execution_count": 32,
   "metadata": {},
   "outputs": [
    {
     "data": {
      "text/plain": [
       "5852"
      ]
     },
     "execution_count": 32,
     "metadata": {},
     "output_type": "execute_result"
    }
   ],
   "source": [
    "len(sites_to_scrape)"
   ]
  },
  {
   "cell_type": "code",
   "execution_count": 34,
   "metadata": {},
   "outputs": [],
   "source": [
    "with open(\"sites_to_scrape.json\", \"w\") as s2s:\n",
    "    json.dump(sites_to_scrape, s2s)"
   ]
  },
  {
   "cell_type": "code",
   "execution_count": null,
   "metadata": {},
   "outputs": [],
   "source": []
  }
 ],
 "metadata": {
  "kernelspec": {
   "display_name": "scrapecontracts",
   "language": "python",
   "name": "scrapecontracts"
  },
  "language_info": {
   "codemirror_mode": {
    "name": "ipython",
    "version": 3
   },
   "file_extension": ".py",
   "mimetype": "text/x-python",
   "name": "python",
   "nbconvert_exporter": "python",
   "pygments_lexer": "ipython3",
   "version": "3.6.1"
  }
 },
 "nbformat": 4,
 "nbformat_minor": 2
}
