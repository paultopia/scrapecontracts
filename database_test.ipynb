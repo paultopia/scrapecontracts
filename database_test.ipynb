{
 "cells": [
  {
   "cell_type": "code",
   "execution_count": 2,
   "metadata": {},
   "outputs": [
    {
     "name": "stdout",
     "output_type": "stream",
     "text": [
      "1\n"
     ]
    }
   ],
   "source": [
    "import sqlite3\n",
    "import datetime\n",
    "def now():\n",
    "    return str(datetime.datetime.now())\n",
    "def create_database(filename):\n",
    "    conn = sqlite3.connect(filename)\n",
    "    contracts_table = \"\"\" CREATE TABLE IF NOT EXISTS contracts (\n",
    "                                        id integer PRIMARY KEY,\n",
    "                                        added text NOT NULL,\n",
    "                                        url text NOT NULL,\n",
    "                                        contract text NOT NULL\n",
    "                                    ); \"\"\"\n",
    "    c = conn.cursor()\n",
    "    c.execute(contracts_table)\n",
    "    return conn\n",
    "\n",
    "def add_data(conn, url, text):\n",
    "    insert_contract = \"\"\" INSERT INTO contracts(added,url,contract)\n",
    "              VALUES(?,?,?) \"\"\"\n",
    "    c = conn.cursor()\n",
    "    data = (now(), url, text)\n",
    "    c.execute(insert_contract, data)\n",
    "    conn.commit()\n",
    "    return c.lastrowid\n",
    "\n",
    "test_data = \"this is some text\"\n",
    "test_url = \"http://gowder.io\"\n",
    "test_database = \"testing.db\"\n",
    "\n",
    "testconn = create_database(test_database)\n",
    "result = add_data(testconn, test_url, test_data)\n",
    "print(result)\n",
    "testconn.close()\n",
    "    "
   ]
  },
  {
   "cell_type": "code",
   "execution_count": 3,
   "metadata": {},
   "outputs": [],
   "source": [
    "import pandas as pd\n",
    "\n",
    "conn = sqlite3.connect(test_database)\n",
    "df = pd.read_sql_query(\"SELECT * from contracts\", conn)\n",
    "df.head()\n",
    "conn.close()"
   ]
  },
  {
   "cell_type": "code",
   "execution_count": 4,
   "metadata": {},
   "outputs": [
    {
     "data": {
      "text/html": [
       "<div>\n",
       "<style scoped>\n",
       "    .dataframe tbody tr th:only-of-type {\n",
       "        vertical-align: middle;\n",
       "    }\n",
       "\n",
       "    .dataframe tbody tr th {\n",
       "        vertical-align: top;\n",
       "    }\n",
       "\n",
       "    .dataframe thead th {\n",
       "        text-align: right;\n",
       "    }\n",
       "</style>\n",
       "<table border=\"1\" class=\"dataframe\">\n",
       "  <thead>\n",
       "    <tr style=\"text-align: right;\">\n",
       "      <th></th>\n",
       "      <th>id</th>\n",
       "      <th>added</th>\n",
       "      <th>url</th>\n",
       "      <th>contract</th>\n",
       "    </tr>\n",
       "  </thead>\n",
       "  <tbody>\n",
       "    <tr>\n",
       "      <th>0</th>\n",
       "      <td>1</td>\n",
       "      <td>2017-11-14 20:17:57.709411</td>\n",
       "      <td>http://gowder.io</td>\n",
       "      <td>this is some text</td>\n",
       "    </tr>\n",
       "  </tbody>\n",
       "</table>\n",
       "</div>"
      ],
      "text/plain": [
       "   id                       added               url           contract\n",
       "0   1  2017-11-14 20:17:57.709411  http://gowder.io  this is some text"
      ]
     },
     "execution_count": 4,
     "metadata": {},
     "output_type": "execute_result"
    }
   ],
   "source": [
    "df.head()"
   ]
  },
  {
   "cell_type": "code",
   "execution_count": null,
   "metadata": {},
   "outputs": [],
   "source": []
  }
 ],
 "metadata": {
  "kernelspec": {
   "display_name": "scrapecontracts",
   "language": "python",
   "name": "scrapecontracts"
  },
  "language_info": {
   "codemirror_mode": {
    "name": "ipython",
    "version": 3
   },
   "file_extension": ".py",
   "mimetype": "text/x-python",
   "name": "python",
   "nbconvert_exporter": "python",
   "pygments_lexer": "ipython3",
   "version": "3.6.1"
  }
 },
 "nbformat": 4,
 "nbformat_minor": 2
}
